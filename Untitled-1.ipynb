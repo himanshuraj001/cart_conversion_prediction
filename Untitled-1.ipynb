{
 "cells": [
  {
   "cell_type": "code",
   "execution_count": 2,
   "metadata": {},
   "outputs": [],
   "source": [
    "import numpy as np # linear algebra\n",
    "import pandas as pd # data processing, CSV file I/O (e.g. pd.read_csv)\n",
    "import datetime\n",
    "import matplotlib.pyplot as plt\n",
    "%matplotlib inline\n",
    "import seaborn as sns"
   ]
  },
  {
   "cell_type": "code",
   "execution_count": 3,
   "metadata": {},
   "outputs": [
    {
     "data": {
      "text/html": [
       "<div>\n",
       "<style scoped>\n",
       "    .dataframe tbody tr th:only-of-type {\n",
       "        vertical-align: middle;\n",
       "    }\n",
       "\n",
       "    .dataframe tbody tr th {\n",
       "        vertical-align: top;\n",
       "    }\n",
       "\n",
       "    .dataframe thead th {\n",
       "        text-align: right;\n",
       "    }\n",
       "</style>\n",
       "<table border=\"1\" class=\"dataframe\">\n",
       "  <thead>\n",
       "    <tr style=\"text-align: right;\">\n",
       "      <th></th>\n",
       "      <th>timestamp</th>\n",
       "      <th>visitorid</th>\n",
       "      <th>event</th>\n",
       "      <th>itemid</th>\n",
       "      <th>transactionid</th>\n",
       "    </tr>\n",
       "  </thead>\n",
       "  <tbody>\n",
       "    <tr>\n",
       "      <th>0</th>\n",
       "      <td>1433221332117</td>\n",
       "      <td>257597</td>\n",
       "      <td>view</td>\n",
       "      <td>355908</td>\n",
       "      <td>NaN</td>\n",
       "    </tr>\n",
       "    <tr>\n",
       "      <th>1</th>\n",
       "      <td>1433224214164</td>\n",
       "      <td>992329</td>\n",
       "      <td>view</td>\n",
       "      <td>248676</td>\n",
       "      <td>NaN</td>\n",
       "    </tr>\n",
       "    <tr>\n",
       "      <th>2</th>\n",
       "      <td>1433221999827</td>\n",
       "      <td>111016</td>\n",
       "      <td>view</td>\n",
       "      <td>318965</td>\n",
       "      <td>NaN</td>\n",
       "    </tr>\n",
       "    <tr>\n",
       "      <th>3</th>\n",
       "      <td>1433221955914</td>\n",
       "      <td>483717</td>\n",
       "      <td>view</td>\n",
       "      <td>253185</td>\n",
       "      <td>NaN</td>\n",
       "    </tr>\n",
       "    <tr>\n",
       "      <th>4</th>\n",
       "      <td>1433221337106</td>\n",
       "      <td>951259</td>\n",
       "      <td>view</td>\n",
       "      <td>367447</td>\n",
       "      <td>NaN</td>\n",
       "    </tr>\n",
       "  </tbody>\n",
       "</table>\n",
       "</div>"
      ],
      "text/plain": [
       "       timestamp  visitorid event  itemid  transactionid\n",
       "0  1433221332117     257597  view  355908            NaN\n",
       "1  1433224214164     992329  view  248676            NaN\n",
       "2  1433221999827     111016  view  318965            NaN\n",
       "3  1433221955914     483717  view  253185            NaN\n",
       "4  1433221337106     951259  view  367447            NaN"
      ]
     },
     "execution_count": 3,
     "metadata": {},
     "output_type": "execute_result"
    }
   ],
   "source": [
    "events_df=pd.read_csv(\"events.csv\")\n",
    "events_df.head()"
   ]
  },
  {
   "cell_type": "code",
   "execution_count": 9,
   "metadata": {},
   "outputs": [
    {
     "data": {
      "text/plain": [
       "(2756101, 5)"
      ]
     },
     "execution_count": 9,
     "metadata": {},
     "output_type": "execute_result"
    }
   ],
   "source": [
    "events_df.shape"
   ]
  },
  {
   "cell_type": "code",
   "execution_count": 7,
   "metadata": {},
   "outputs": [
    {
     "data": {
      "text/plain": [
       "timestamp              0\n",
       "visitorid              0\n",
       "event                  0\n",
       "itemid                 0\n",
       "transactionid    2733644\n",
       "dtype: int64"
      ]
     },
     "execution_count": 7,
     "metadata": {},
     "output_type": "execute_result"
    }
   ],
   "source": [
    "events_df.isnull().sum()"
   ]
  },
  {
   "cell_type": "code",
   "execution_count": 10,
   "metadata": {},
   "outputs": [
    {
     "name": "stdout",
     "output_type": "stream",
     "text": [
      "Number of rows before removing duplicates:  2756101\n",
      "Number of rows after removing duplicates:  2755641\n"
     ]
    },
    {
     "data": {
      "text/html": [
       "<div>\n",
       "<style scoped>\n",
       "    .dataframe tbody tr th:only-of-type {\n",
       "        vertical-align: middle;\n",
       "    }\n",
       "\n",
       "    .dataframe tbody tr th {\n",
       "        vertical-align: top;\n",
       "    }\n",
       "\n",
       "    .dataframe thead th {\n",
       "        text-align: right;\n",
       "    }\n",
       "</style>\n",
       "<table border=\"1\" class=\"dataframe\">\n",
       "  <thead>\n",
       "    <tr style=\"text-align: right;\">\n",
       "      <th></th>\n",
       "      <th>timestamp</th>\n",
       "      <th>visitorid</th>\n",
       "      <th>event</th>\n",
       "      <th>itemid</th>\n",
       "      <th>transactionid</th>\n",
       "    </tr>\n",
       "  </thead>\n",
       "  <tbody>\n",
       "    <tr>\n",
       "      <th>0</th>\n",
       "      <td>1433221332117</td>\n",
       "      <td>257597</td>\n",
       "      <td>view</td>\n",
       "      <td>355908</td>\n",
       "      <td>NaN</td>\n",
       "    </tr>\n",
       "    <tr>\n",
       "      <th>1</th>\n",
       "      <td>1433224214164</td>\n",
       "      <td>992329</td>\n",
       "      <td>view</td>\n",
       "      <td>248676</td>\n",
       "      <td>NaN</td>\n",
       "    </tr>\n",
       "    <tr>\n",
       "      <th>2</th>\n",
       "      <td>1433221999827</td>\n",
       "      <td>111016</td>\n",
       "      <td>view</td>\n",
       "      <td>318965</td>\n",
       "      <td>NaN</td>\n",
       "    </tr>\n",
       "    <tr>\n",
       "      <th>3</th>\n",
       "      <td>1433221955914</td>\n",
       "      <td>483717</td>\n",
       "      <td>view</td>\n",
       "      <td>253185</td>\n",
       "      <td>NaN</td>\n",
       "    </tr>\n",
       "    <tr>\n",
       "      <th>4</th>\n",
       "      <td>1433221337106</td>\n",
       "      <td>951259</td>\n",
       "      <td>view</td>\n",
       "      <td>367447</td>\n",
       "      <td>NaN</td>\n",
       "    </tr>\n",
       "  </tbody>\n",
       "</table>\n",
       "</div>"
      ],
      "text/plain": [
       "       timestamp  visitorid event  itemid  transactionid\n",
       "0  1433221332117     257597  view  355908            NaN\n",
       "1  1433224214164     992329  view  248676            NaN\n",
       "2  1433221999827     111016  view  318965            NaN\n",
       "3  1433221955914     483717  view  253185            NaN\n",
       "4  1433221337106     951259  view  367447            NaN"
      ]
     },
     "execution_count": 10,
     "metadata": {},
     "output_type": "execute_result"
    }
   ],
   "source": [
    "print('Number of rows before removing duplicates: ', events_df.shape[0])\n",
    "events_df.drop_duplicates(inplace=True,ignore_index=True)\n",
    "print('Number of rows after removing duplicates: ', events_df.shape[0])\n",
    "events_df.head()"
   ]
  },
  {
   "cell_type": "code",
   "execution_count": 16,
   "metadata": {},
   "outputs": [
    {
     "data": {
      "text/html": [
       "<div>\n",
       "<style scoped>\n",
       "    .dataframe tbody tr th:only-of-type {\n",
       "        vertical-align: middle;\n",
       "    }\n",
       "\n",
       "    .dataframe tbody tr th {\n",
       "        vertical-align: top;\n",
       "    }\n",
       "\n",
       "    .dataframe thead th {\n",
       "        text-align: right;\n",
       "    }\n",
       "</style>\n",
       "<table border=\"1\" class=\"dataframe\">\n",
       "  <thead>\n",
       "    <tr style=\"text-align: right;\">\n",
       "      <th></th>\n",
       "      <th>timestamp</th>\n",
       "      <th>visitorid</th>\n",
       "      <th>event</th>\n",
       "      <th>itemid</th>\n",
       "      <th>transactionid</th>\n",
       "      <th>Date_time</th>\n",
       "    </tr>\n",
       "  </thead>\n",
       "  <tbody>\n",
       "    <tr>\n",
       "      <th>0</th>\n",
       "      <td>1433221332117</td>\n",
       "      <td>257597</td>\n",
       "      <td>view</td>\n",
       "      <td>355908</td>\n",
       "      <td>NaN</td>\n",
       "      <td>2015-06-02 05:02:12.117</td>\n",
       "    </tr>\n",
       "    <tr>\n",
       "      <th>1</th>\n",
       "      <td>1433224214164</td>\n",
       "      <td>992329</td>\n",
       "      <td>view</td>\n",
       "      <td>248676</td>\n",
       "      <td>NaN</td>\n",
       "      <td>2015-06-02 05:50:14.164</td>\n",
       "    </tr>\n",
       "    <tr>\n",
       "      <th>2</th>\n",
       "      <td>1433221999827</td>\n",
       "      <td>111016</td>\n",
       "      <td>view</td>\n",
       "      <td>318965</td>\n",
       "      <td>NaN</td>\n",
       "      <td>2015-06-02 05:13:19.827</td>\n",
       "    </tr>\n",
       "    <tr>\n",
       "      <th>3</th>\n",
       "      <td>1433221955914</td>\n",
       "      <td>483717</td>\n",
       "      <td>view</td>\n",
       "      <td>253185</td>\n",
       "      <td>NaN</td>\n",
       "      <td>2015-06-02 05:12:35.914</td>\n",
       "    </tr>\n",
       "    <tr>\n",
       "      <th>4</th>\n",
       "      <td>1433221337106</td>\n",
       "      <td>951259</td>\n",
       "      <td>view</td>\n",
       "      <td>367447</td>\n",
       "      <td>NaN</td>\n",
       "      <td>2015-06-02 05:02:17.106</td>\n",
       "    </tr>\n",
       "  </tbody>\n",
       "</table>\n",
       "</div>"
      ],
      "text/plain": [
       "       timestamp  visitorid event  itemid  transactionid  \\\n",
       "0  1433221332117     257597  view  355908            NaN   \n",
       "1  1433224214164     992329  view  248676            NaN   \n",
       "2  1433221999827     111016  view  318965            NaN   \n",
       "3  1433221955914     483717  view  253185            NaN   \n",
       "4  1433221337106     951259  view  367447            NaN   \n",
       "\n",
       "                Date_time  \n",
       "0 2015-06-02 05:02:12.117  \n",
       "1 2015-06-02 05:50:14.164  \n",
       "2 2015-06-02 05:13:19.827  \n",
       "3 2015-06-02 05:12:35.914  \n",
       "4 2015-06-02 05:02:17.106  "
      ]
     },
     "execution_count": 16,
     "metadata": {},
     "output_type": "execute_result"
    }
   ],
   "source": [
    "events_df['Date_time']=pd.to_datetime(events_df['timestamp'],unit='ms')\n",
    "events_df.head()"
   ]
  },
  {
   "cell_type": "code",
   "execution_count": 17,
   "metadata": {},
   "outputs": [
    {
     "name": "stdout",
     "output_type": "stream",
     "text": [
      "Start Date of Dataset:  2015-05-03 03:00:04.384000\n",
      "End Date of Dataset:  2015-09-18 02:59:47.788000\n"
     ]
    }
   ],
   "source": [
    "print('Start Date of Dataset: ', events_df['Date_time'].min())\n",
    "print('End Date of Dataset: ', events_df['Date_time'].max())"
   ]
  },
  {
   "cell_type": "code",
   "execution_count": 23,
   "metadata": {},
   "outputs": [
    {
     "data": {
      "image/png": "[encoded data removed]",
      "text/plain": [
       "<Figure size 2000x800 with 2 Axes>"
      ]
     },
     "metadata": {},
     "output_type": "display_data"
    }
   ],
   "source": [
    "fig, (ax1,ax2) = plt.subplots(1,2, figsize=(20,8))\n",
    "sns.histplot(x = 'event', data = events_df, bins = 3, ax = ax1,hue='event')\n",
    "ax1.set_ylabel('Number of Events (Unit: million)')\n",
    "ax1.set_title('Distribution by Event Type')\n",
    "for x, counts in zip(events_df['event'].unique().tolist(), events_df['event'].value_counts().tolist()):\n",
    "    text=str(round((counts/events_df.shape[0])*100,2)) +'%'\n",
    "    ax1.text(x, counts, text, fontsize=12)\n",
    "events = events_df['event'].unique().tolist()\n",
    "unique_num = []\n",
    "ratios = []\n",
    "for event in events:\n",
    "    uni_visit = len(events_df['visitorid'][events_df['event']==event].unique())\n",
    "    unique_num.append(uni_visit)\n",
    "    ratios.append(uni_visit/len(set(events_df['visitorid'])))\n",
    "\n",
    "sns.barplot(x = events, y = unique_num, ax = ax2,hue=events)\n",
    "\n",
    "ratio_p = [str(round(r*100,2)) + '%' for r in ratios]\n",
    "for e, c, r in zip(range(3), unique_num, ratio_p):\n",
    "    ax2.text(e, c, r, fontsize=12)\n",
    "    \n",
    "ax2.set_title('Unique Number of Visitors')\n",
    "plt.show()"
   ]
  },
  {
   "cell_type": "code",
   "execution_count": null,
   "metadata": {},
   "outputs": [],
   "source": []
  },
  {
   "cell_type": "code",
   "execution_count": 38,
   "metadata": {},
   "outputs": [],
   "source": [
    "# obtain vistor id,item id, and date time of 'tranaction'\n",
    "item_tra=events_df[['visitorid','itemid','Date_time']][events_df['event']=='transaction']\n",
    "# obtain vistor id,item id, and date time of 'add to cart'\n",
    "item_atc=events_df[['visitorid','itemid','Date_time']][events_df['event']=='addtocart']\n",
    "# obtain vistor id,item id, and date time of 'view'\n",
    "item_viw=events_df[['visitorid','itemid','Date_time']][events_df['event']=='view']"
   ]
  },
  {
   "cell_type": "code",
   "execution_count": 39,
   "metadata": {},
   "outputs": [
    {
     "data": {
      "text/html": [
       "<div>\n",
       "<style scoped>\n",
       "    .dataframe tbody tr th:only-of-type {\n",
       "        vertical-align: middle;\n",
       "    }\n",
       "\n",
       "    .dataframe tbody tr th {\n",
       "        vertical-align: top;\n",
       "    }\n",
       "\n",
       "    .dataframe thead th {\n",
       "        text-align: right;\n",
       "    }\n",
       "</style>\n",
       "<table border=\"1\" class=\"dataframe\">\n",
       "  <thead>\n",
       "    <tr style=\"text-align: right;\">\n",
       "      <th></th>\n",
       "      <th>visitorid</th>\n",
       "      <th>itemid</th>\n",
       "      <th>Date_time (transaction)</th>\n",
       "      <th>Date_time (add_to_cart)</th>\n",
       "      <th>Date_time (view)</th>\n",
       "    </tr>\n",
       "  </thead>\n",
       "  <tbody>\n",
       "    <tr>\n",
       "      <th>0</th>\n",
       "      <td>599528</td>\n",
       "      <td>356475</td>\n",
       "      <td>2015-06-02 05:17:56.276</td>\n",
       "      <td>2015-06-02 05:12:21.632</td>\n",
       "      <td>2015-06-02 05:11:36.102</td>\n",
       "    </tr>\n",
       "    <tr>\n",
       "      <th>1</th>\n",
       "      <td>599528</td>\n",
       "      <td>356475</td>\n",
       "      <td>2015-06-02 05:17:56.276</td>\n",
       "      <td>2015-06-02 05:12:21.632</td>\n",
       "      <td>2015-06-03 02:12:25.235</td>\n",
       "    </tr>\n",
       "    <tr>\n",
       "      <th>2</th>\n",
       "      <td>599528</td>\n",
       "      <td>356475</td>\n",
       "      <td>2015-06-02 05:17:56.276</td>\n",
       "      <td>2015-06-02 05:12:21.632</td>\n",
       "      <td>2015-06-06 21:10:10.602</td>\n",
       "    </tr>\n",
       "    <tr>\n",
       "      <th>3</th>\n",
       "      <td>599528</td>\n",
       "      <td>356475</td>\n",
       "      <td>2015-06-02 05:17:56.276</td>\n",
       "      <td>2015-06-02 05:12:21.632</td>\n",
       "      <td>2015-06-08 02:44:57.480</td>\n",
       "    </tr>\n",
       "    <tr>\n",
       "      <th>4</th>\n",
       "      <td>599528</td>\n",
       "      <td>356475</td>\n",
       "      <td>2015-06-02 05:17:56.276</td>\n",
       "      <td>2015-06-02 05:12:21.632</td>\n",
       "      <td>2015-06-10 00:34:37.794</td>\n",
       "    </tr>\n",
       "  </tbody>\n",
       "</table>\n",
       "</div>"
      ],
      "text/plain": [
       "   visitorid  itemid Date_time (transaction) Date_time (add_to_cart)  \\\n",
       "0     599528  356475 2015-06-02 05:17:56.276 2015-06-02 05:12:21.632   \n",
       "1     599528  356475 2015-06-02 05:17:56.276 2015-06-02 05:12:21.632   \n",
       "2     599528  356475 2015-06-02 05:17:56.276 2015-06-02 05:12:21.632   \n",
       "3     599528  356475 2015-06-02 05:17:56.276 2015-06-02 05:12:21.632   \n",
       "4     599528  356475 2015-06-02 05:17:56.276 2015-06-02 05:12:21.632   \n",
       "\n",
       "         Date_time (view)  \n",
       "0 2015-06-02 05:11:36.102  \n",
       "1 2015-06-03 02:12:25.235  \n",
       "2 2015-06-06 21:10:10.602  \n",
       "3 2015-06-08 02:44:57.480  \n",
       "4 2015-06-10 00:34:37.794  "
      ]
     },
     "execution_count": 39,
     "metadata": {},
     "output_type": "execute_result"
    }
   ],
   "source": [
    "# create a dataframe of visitor, itemid found in all three events\n",
    "m=item_tra.merge(item_atc, how='inner', on=['visitorid','itemid'], suffixes=[' (transaction)', ' (add_to_cart)'])\n",
    "m=m.merge(item_viw, how='inner', on=['visitorid','itemid'])\n",
    "m=m.rename(columns={'Date_time':'Date_time (view)'})\n",
    "m.head()"
   ]
  },
  {
   "cell_type": "code",
   "execution_count": 40,
   "metadata": {},
   "outputs": [
    {
     "data": {
      "text/plain": [
       "(75942, 5)"
      ]
     },
     "execution_count": 40,
     "metadata": {},
     "output_type": "execute_result"
    }
   ],
   "source": [
    "m.shape"
   ]
  },
  {
   "cell_type": "code",
   "execution_count": 41,
   "metadata": {},
   "outputs": [
    {
     "data": {
      "text/html": [
       "<div>\n",
       "<style scoped>\n",
       "    .dataframe tbody tr th:only-of-type {\n",
       "        vertical-align: middle;\n",
       "    }\n",
       "\n",
       "    .dataframe tbody tr th {\n",
       "        vertical-align: top;\n",
       "    }\n",
       "\n",
       "    .dataframe thead th {\n",
       "        text-align: right;\n",
       "    }\n",
       "</style>\n",
       "<table border=\"1\" class=\"dataframe\">\n",
       "  <thead>\n",
       "    <tr style=\"text-align: right;\">\n",
       "      <th></th>\n",
       "      <th>visitorid</th>\n",
       "      <th>itemid</th>\n",
       "      <th>Date_time (transaction)</th>\n",
       "      <th>Date_time (add_to_cart)</th>\n",
       "      <th>Date_time (view)</th>\n",
       "    </tr>\n",
       "  </thead>\n",
       "  <tbody>\n",
       "    <tr>\n",
       "      <th>0</th>\n",
       "      <td>599528</td>\n",
       "      <td>356475</td>\n",
       "      <td>2015-06-02 05:17:56.276</td>\n",
       "      <td>2015-06-02 05:12:21.632</td>\n",
       "      <td>2015-06-02 05:11:36.102</td>\n",
       "    </tr>\n",
       "    <tr>\n",
       "      <th>1</th>\n",
       "      <td>552148</td>\n",
       "      <td>81345</td>\n",
       "      <td>2015-06-01 21:25:15.008</td>\n",
       "      <td>2015-06-01 21:24:40.872</td>\n",
       "      <td>2015-06-01 21:22:28.663</td>\n",
       "    </tr>\n",
       "    <tr>\n",
       "      <th>2</th>\n",
       "      <td>189384</td>\n",
       "      <td>310791</td>\n",
       "      <td>2015-06-01 16:01:58.180</td>\n",
       "      <td>2015-06-01 15:59:01.347</td>\n",
       "      <td>2015-06-01 15:52:45.771</td>\n",
       "    </tr>\n",
       "    <tr>\n",
       "      <th>3</th>\n",
       "      <td>189384</td>\n",
       "      <td>310791</td>\n",
       "      <td>2015-06-01 16:01:58.180</td>\n",
       "      <td>2015-06-01 15:59:01.347</td>\n",
       "      <td>2015-06-01 15:53:23.671</td>\n",
       "    </tr>\n",
       "    <tr>\n",
       "      <th>4</th>\n",
       "      <td>350566</td>\n",
       "      <td>54058</td>\n",
       "      <td>2015-06-01 18:44:21.340</td>\n",
       "      <td>2015-06-01 18:41:49.097</td>\n",
       "      <td>2015-06-01 18:41:01.334</td>\n",
       "    </tr>\n",
       "  </tbody>\n",
       "</table>\n",
       "</div>"
      ],
      "text/plain": [
       "   visitorid  itemid Date_time (transaction) Date_time (add_to_cart)  \\\n",
       "0     599528  356475 2015-06-02 05:17:56.276 2015-06-02 05:12:21.632   \n",
       "1     552148   81345 2015-06-01 21:25:15.008 2015-06-01 21:24:40.872   \n",
       "2     189384  310791 2015-06-01 16:01:58.180 2015-06-01 15:59:01.347   \n",
       "3     189384  310791 2015-06-01 16:01:58.180 2015-06-01 15:59:01.347   \n",
       "4     350566   54058 2015-06-01 18:44:21.340 2015-06-01 18:41:49.097   \n",
       "\n",
       "         Date_time (view)  \n",
       "0 2015-06-02 05:11:36.102  \n",
       "1 2015-06-01 21:22:28.663  \n",
       "2 2015-06-01 15:52:45.771  \n",
       "3 2015-06-01 15:53:23.671  \n",
       "4 2015-06-01 18:41:01.334  "
      ]
     },
     "execution_count": 41,
     "metadata": {},
     "output_type": "execute_result"
    }
   ],
   "source": [
    "merged_df=m[(m['Date_time (transaction)']>=m['Date_time (view)'])& (m['Date_time (transaction)']>=m['Date_time (add_to_cart)']) &(m['Date_time (add_to_cart)']>=m['Date_time (view)']) ]\n",
    "merged_df.reset_index(drop=True,inplace=True)\n",
    "merged_df.head()"
   ]
  },
  {
   "cell_type": "code",
   "execution_count": 43,
   "metadata": {},
   "outputs": [
    {
     "data": {
      "text/plain": [
       "(38021, 5)"
      ]
     },
     "execution_count": 43,
     "metadata": {},
     "output_type": "execute_result"
    }
   ],
   "source": [
    "merged_df.shape"
   ]
  },
  {
   "cell_type": "code",
   "execution_count": null,
   "metadata": {},
   "outputs": [],
   "source": []
  },
  {
   "cell_type": "code",
   "execution_count": null,
   "metadata": {},
   "outputs": [],
   "source": []
  },
  {
   "cell_type": "code",
   "execution_count": null,
   "metadata": {},
   "outputs": [
    {
     "data": {
      "text/html": [
       "<div>\n",
       "<style scoped>\n",
       "    .dataframe tbody tr th:only-of-type {\n",
       "        vertical-align: middle;\n",
       "    }\n",
       "\n",
       "    .dataframe tbody tr th {\n",
       "        vertical-align: top;\n",
       "    }\n",
       "\n",
       "    .dataframe thead th {\n",
       "        text-align: right;\n",
       "    }\n",
       "</style>\n",
       "<table border=\"1\" class=\"dataframe\">\n",
       "  <thead>\n",
       "    <tr style=\"text-align: right;\">\n",
       "      <th></th>\n",
       "      <th>visitorid</th>\n",
       "      <th>itemid</th>\n",
       "      <th>Date_time (transaction)</th>\n",
       "      <th>Date_time (add_to_cart)</th>\n",
       "      <th>Date_time (view)</th>\n",
       "    </tr>\n",
       "  </thead>\n",
       "  <tbody>\n",
       "    <tr>\n",
       "      <th>3</th>\n",
       "      <td>189384</td>\n",
       "      <td>310791</td>\n",
       "      <td>2015-06-01 16:01:58.180</td>\n",
       "      <td>2015-06-01 15:59:01.347</td>\n",
       "      <td>2015-06-01 15:53:23.671</td>\n",
       "    </tr>\n",
       "    <tr>\n",
       "      <th>13</th>\n",
       "      <td>1318394</td>\n",
       "      <td>318333</td>\n",
       "      <td>2015-06-02 18:58:14.422</td>\n",
       "      <td>2015-06-02 18:55:58.955</td>\n",
       "      <td>2015-06-02 01:27:58.046</td>\n",
       "    </tr>\n",
       "    <tr>\n",
       "      <th>16</th>\n",
       "      <td>1331125</td>\n",
       "      <td>185896</td>\n",
       "      <td>2015-06-02 01:42:48.340</td>\n",
       "      <td>2015-06-02 01:41:24.289</td>\n",
       "      <td>2015-06-02 01:32:57.058</td>\n",
       "    </tr>\n",
       "    <tr>\n",
       "      <th>19</th>\n",
       "      <td>911093</td>\n",
       "      <td>251130</td>\n",
       "      <td>2015-06-02 02:18:38.578</td>\n",
       "      <td>2015-06-02 00:18:11.375</td>\n",
       "      <td>2015-06-02 00:17:50.346</td>\n",
       "    </tr>\n",
       "    <tr>\n",
       "      <th>20</th>\n",
       "      <td>911093</td>\n",
       "      <td>251130</td>\n",
       "      <td>2015-06-02 02:18:38.578</td>\n",
       "      <td>2015-06-02 00:18:11.375</td>\n",
       "      <td>2015-06-02 00:08:53.181</td>\n",
       "    </tr>\n",
       "    <tr>\n",
       "      <th>...</th>\n",
       "      <td>...</td>\n",
       "      <td>...</td>\n",
       "      <td>...</td>\n",
       "      <td>...</td>\n",
       "      <td>...</td>\n",
       "    </tr>\n",
       "    <tr>\n",
       "      <th>38010</th>\n",
       "      <td>1155978</td>\n",
       "      <td>430050</td>\n",
       "      <td>2015-08-01 00:20:36.295</td>\n",
       "      <td>2015-08-01 00:16:28.780</td>\n",
       "      <td>2015-07-13 18:52:41.049</td>\n",
       "    </tr>\n",
       "    <tr>\n",
       "      <th>38011</th>\n",
       "      <td>1155978</td>\n",
       "      <td>430050</td>\n",
       "      <td>2015-08-01 00:20:36.295</td>\n",
       "      <td>2015-08-01 00:16:28.780</td>\n",
       "      <td>2015-07-13 18:54:02.713</td>\n",
       "    </tr>\n",
       "    <tr>\n",
       "      <th>38012</th>\n",
       "      <td>1155978</td>\n",
       "      <td>430050</td>\n",
       "      <td>2015-08-01 00:20:36.295</td>\n",
       "      <td>2015-08-01 00:16:28.780</td>\n",
       "      <td>2015-07-22 15:46:02.099</td>\n",
       "    </tr>\n",
       "    <tr>\n",
       "      <th>38013</th>\n",
       "      <td>1155978</td>\n",
       "      <td>430050</td>\n",
       "      <td>2015-08-01 00:20:36.295</td>\n",
       "      <td>2015-08-01 00:16:28.780</td>\n",
       "      <td>2015-08-01 00:12:30.596</td>\n",
       "    </tr>\n",
       "    <tr>\n",
       "      <th>38017</th>\n",
       "      <td>1050575</td>\n",
       "      <td>31640</td>\n",
       "      <td>2015-07-31 21:12:56.570</td>\n",
       "      <td>2015-07-31 21:11:12.772</td>\n",
       "      <td>2015-07-31 21:10:18.947</td>\n",
       "    </tr>\n",
       "  </tbody>\n",
       "</table>\n",
       "<p>20435 rows × 5 columns</p>\n",
       "</div>"
      ],
      "text/plain": [
       "       visitorid  itemid Date_time (transaction) Date_time (add_to_cart)  \\\n",
       "3         189384  310791 2015-06-01 16:01:58.180 2015-06-01 15:59:01.347   \n",
       "13       1318394  318333 2015-06-02 18:58:14.422 2015-06-02 18:55:58.955   \n",
       "16       1331125  185896 2015-06-02 01:42:48.340 2015-06-02 01:41:24.289   \n",
       "19        911093  251130 2015-06-02 02:18:38.578 2015-06-02 00:18:11.375   \n",
       "20        911093  251130 2015-06-02 02:18:38.578 2015-06-02 00:18:11.375   \n",
       "...          ...     ...                     ...                     ...   \n",
       "38010    1155978  430050 2015-08-01 00:20:36.295 2015-08-01 00:16:28.780   \n",
       "38011    1155978  430050 2015-08-01 00:20:36.295 2015-08-01 00:16:28.780   \n",
       "38012    1155978  430050 2015-08-01 00:20:36.295 2015-08-01 00:16:28.780   \n",
       "38013    1155978  430050 2015-08-01 00:20:36.295 2015-08-01 00:16:28.780   \n",
       "38017    1050575   31640 2015-07-31 21:12:56.570 2015-07-31 21:11:12.772   \n",
       "\n",
       "             Date_time (view)  \n",
       "3     2015-06-01 15:53:23.671  \n",
       "13    2015-06-02 01:27:58.046  \n",
       "16    2015-06-02 01:32:57.058  \n",
       "19    2015-06-02 00:17:50.346  \n",
       "20    2015-06-02 00:08:53.181  \n",
       "...                       ...  \n",
       "38010 2015-07-13 18:52:41.049  \n",
       "38011 2015-07-13 18:54:02.713  \n",
       "38012 2015-07-22 15:46:02.099  \n",
       "38013 2015-08-01 00:12:30.596  \n",
       "38017 2015-07-31 21:10:18.947  \n",
       "\n",
       "[20435 rows x 5 columns]"
      ]
     },
     "execution_count": 50,
     "metadata": {},
     "output_type": "execute_result"
    }
   ],
   "source": [
    "merged_df[merged_df.duplicated(['visitorid','itemid','Date_time (transaction)'])]"
   ]
  },
  {
   "cell_type": "code",
   "execution_count": 46,
   "metadata": {},
   "outputs": [
    {
     "data": {
      "text/plain": [
       "17586"
      ]
     },
     "execution_count": 46,
     "metadata": {},
     "output_type": "execute_result"
    }
   ],
   "source": [
    "merged_df.shape[0]-merged_df.duplicated(['visitorid','itemid','Date_time (transaction)']).sum()"
   ]
  },
  {
   "cell_type": "code",
   "execution_count": null,
   "metadata": {},
   "outputs": [],
   "source": []
  },
  {
   "cell_type": "code",
   "execution_count": null,
   "metadata": {},
   "outputs": [],
   "source": []
  },
  {
   "cell_type": "code",
   "execution_count": null,
   "metadata": {},
   "outputs": [],
   "source": []
  },
  {
   "cell_type": "code",
   "execution_count": null,
   "metadata": {},
   "outputs": [],
   "source": []
  },
  {
   "cell_type": "code",
   "execution_count": null,
   "metadata": {},
   "outputs": [],
   "source": []
  },
  {
   "cell_type": "code",
   "execution_count": null,
   "metadata": {},
   "outputs": [],
   "source": [
    "merged_df.groupby(['visitorid','itemid'])[['cart_view_diff']].mean()"
   ]
  },
  {
   "cell_type": "code",
   "execution_count": null,
   "metadata": {},
   "outputs": [],
   "source": [
    "merged_df['cart_view_diff']=(merged_df['Date_time (add_to_cart)'] - merged_df[\"Date_time (view)\"]) / pd.Timedelta(seconds=1)\n",
    "merged_df.head()\n"
   ]
  }
 ],
 "metadata": {
  "kernelspec": {
   "display_name": "base",
   "language": "python",
   "name": "python3"
  },
  "language_info": {
   "codemirror_mode": {
    "name": "ipython",
    "version": 3
   },
   "file_extension": ".py",
   "mimetype": "text/x-python",
   "name": "python",
   "nbconvert_exporter": "python",
   "pygments_lexer": "ipython3",
   "version": "3.12.7"
  }
 },
 "nbformat": 4,
 "nbformat_minor": 2
}
